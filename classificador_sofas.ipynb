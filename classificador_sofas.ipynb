{
 "cells": [
  {
   "cell_type": "code",
   "execution_count": 279,
   "id": "20f996ff",
   "metadata": {},
   "outputs": [],
   "source": [
    "#import bibliotecas\n",
    "\n",
    "import cv2\n",
    "import numpy as np\n",
    "from sklearn import tree\n",
    "import matplotlib.pyplot as plt\n",
    "import pandas as pd\n",
    "from scipy.spatial import distance\n"
   ]
  },
  {
   "cell_type": "code",
   "execution_count": 262,
   "id": "77abf9bb",
   "metadata": {},
   "outputs": [],
   "source": [
    "def thresh(image,blur,tamanho_images):    \n",
    "    image = cv2.resize(image, dsize=(tamanho_images, tamanho_images), interpolation=cv2.INTER_CUBIC)\n",
    "    ksize = (blur, blur)\n",
    "    image = cv2.blur(image, ksize) \n",
    "\n",
    "#    print(image[24])    \n",
    "#    cv2.imshow(\"Final 1\", image)\n",
    "#    cv2.waitKey(0)\n",
    "\n",
    "    ret,thresh1 = cv2.threshold(image,240,255,cv2.THRESH_BINARY)\n",
    "    \n",
    "    return thresh1"
   ]
  },
  {
   "cell_type": "code",
   "execution_count": 263,
   "id": "375fa7ca",
   "metadata": {},
   "outputs": [],
   "source": [
    "def area_imagem(image,blur,tamanho_images):\n",
    "\n",
    "    thresh1 = thresh(image,blur,tamanho_images)\n",
    "\n",
    "    area = np.sum(thresh1 == 255)\n",
    "    \n",
    "    return area"
   ]
  },
  {
   "cell_type": "code",
   "execution_count": 264,
   "id": "c97d0e81",
   "metadata": {},
   "outputs": [],
   "source": [
    "def borda(image,blur,tamanho_images):\n",
    "\n",
    "    image = cv2.resize(image, dsize=(tamanho_images, tamanho_images), interpolation=cv2.INTER_CUBIC)\n",
    "    ksize = (blur, blur)\n",
    "    image = cv2.blur(image, ksize) \n",
    "    \n",
    "    edges = cv.Canny(image,25,100)\n",
    "    perimetro = np.sum(edges == 255)\n",
    "    \n",
    "    return perimetro"
   ]
  },
  {
   "cell_type": "code",
   "execution_count": 265,
   "id": "fc490f1a",
   "metadata": {},
   "outputs": [],
   "source": [
    "def maior_linha(image,blur,tamanho_images):\n",
    "    thresh1 = thresh(image,blur,tamanho_images)\n",
    "    \n",
    "    valor=0\n",
    "    for i in range(tamanho_images):\n",
    "        linha = thresh1[i]\n",
    "        tamanho = np.sum(linha == 0)\n",
    "        if tamanho>valor:\n",
    "            maior_linha=i\n",
    "            valor=tamanho\n",
    "    \n",
    "    return valor\n"
   ]
  },
  {
   "cell_type": "code",
   "execution_count": 266,
   "id": "bc6001ca",
   "metadata": {},
   "outputs": [],
   "source": [
    "def maior_coluna(image,blur,tamanho_images):\n",
    "    thresh1 = thresh(image,blur,tamanho_images)\n",
    "    thresh1 = thresh1.transpose()\n",
    "#    cv2.imshow(\"Final 1\", thresh1)\n",
    "#    cv2.waitKey(0)\n",
    "    valor=0\n",
    "    for i in range(tamanho_images):\n",
    "        linha = thresh1[i]\n",
    "        tamanho = np.sum(linha == 0)\n",
    "        if tamanho>valor:\n",
    "            maior_linha=i\n",
    "            valor=tamanho\n",
    "    \n",
    "    return valor\n"
   ]
  },
  {
   "cell_type": "code",
   "execution_count": 781,
   "id": "05ed38ac",
   "metadata": {},
   "outputs": [
    {
     "data": {
      "text/plain": [
       "[86, 175, 212]"
      ]
     },
     "execution_count": 781,
     "metadata": {},
     "output_type": "execute_result"
    }
   ],
   "source": [
    "def cor(imagem,blur,tamanho_images):\n",
    "    image = cv2.resize(imagem, dsize=(tamanho_images, tamanho_images), interpolation=cv2.INTER_CUBIC)\n",
    "    ksize = (blur, blur)\n",
    "    image = cv2.blur(image, ksize) \n",
    "#    plt.imshow(image)\n",
    "\n",
    "    cores=[]\n",
    "    todas_cores=[]\n",
    "\n",
    "    qtd=0\n",
    "\n",
    "    i=16\n",
    "    while i<=24:\n",
    "        j=16\n",
    "        while j<=24:\n",
    "            cor = str(image[i][j])\n",
    "            todas_cores.append(str(image[i][j]))\n",
    "            if cor not in cores:\n",
    "                cores.append(str(cor))\n",
    "            j = j +1\n",
    "        i = i +1\n",
    "\n",
    "    valor=0\n",
    "    for i in range(len(cores)):\n",
    "        repeticoes = todas_cores.count(cores[i])\n",
    "        if repeticoes>valor:\n",
    "            valor = repeticoes\n",
    "            cor = cores[i]\n",
    "\n",
    "    cor = cor.replace(']','')\n",
    "    cor = cor.replace('[','')\n",
    "    cor_list = cor.split()\n",
    "\n",
    "    compara = [int(cor_list[0]),int(cor_list[1]),int(cor_list[2])]\n",
    "\n",
    "    return compara\n",
    "\n",
    "#imagem = cv2.imread('Sofa/3.jpg')\n",
    "#cor(imagem,blur,tamanho_images)"
   ]
  },
  {
   "cell_type": "code",
   "execution_count": 803,
   "id": "71da9cb4",
   "metadata": {},
   "outputs": [],
   "source": [
    "#Carregar base \n",
    "sofas=[]\n",
    "tamanhos=[]\n",
    "imagens = []\n",
    "blur=2\n",
    "tamanho_images = 48\n",
    "num_images=1501\n",
    "\n",
    "for i in range(num_images):\n",
    "    \n",
    "    nome = \"Sofa/\" + str(i+1) + \".jpg\"\n",
    "    imagem = cv2.imread(nome,0)\n",
    "    imagens.append(imagem)\n",
    "    \n",
    "    largura = maior_linha(imagem,blur,tamanho_images)\n",
    "    altura = maior_coluna(imagem,blur,tamanho_images)    \n",
    "    area=area_imagem(imagem,blur,tamanho_images)\n",
    "    perimetro=borda(imagem,blur,tamanho_images)\n",
    "\n",
    "    tipo = round((perimetro/area)*1000)\n",
    "    razao = round(largura/altura)\n",
    "        \n",
    "    sofas.append([largura,altura,area,perimetro])\n",
    "    \n",
    "    tamanhos.append(i+1)\n",
    "    \n",
    "    #if razao==1:\n",
    "    #    tamanhos.append(1)\n",
    "    #elif razao==2:\n",
    "    #    tamanhos.append(2)\n",
    "    #else:\n",
    "    #    tamanhos.append(3)        "
   ]
  },
  {
   "cell_type": "code",
   "execution_count": 804,
   "id": "dacb8d75",
   "metadata": {},
   "outputs": [
    {
     "data": {
      "text/plain": [
       "'\\nclf = tree.DecisionTreeClassifier()\\nclf = clf.fit(sofas,tamanhos)\\n'"
      ]
     },
     "execution_count": 804,
     "metadata": {},
     "output_type": "execute_result"
    }
   ],
   "source": [
    "#arvore de decisão\n",
    "'''\n",
    "clf = tree.DecisionTreeClassifier()\n",
    "clf = clf.fit(sofas,tamanhos)\n",
    "'''"
   ]
  },
  {
   "cell_type": "code",
   "execution_count": 805,
   "id": "723f6a15",
   "metadata": {},
   "outputs": [
    {
     "data": {
      "text/plain": [
       "'\\nimagem = cv2.imread(\"Sofa/116.jpg\",0)\\n\\nlargura = maior_linha(imagem,blur,tamanho_images)\\naltura = maior_coluna(imagem,blur,tamanho_images)    \\nperimetro=borda(imagem,blur,tamanho_images)\\narea=area_imagem(imagem,blur,tamanho_images)\\n\\nresultadoUser = clf.predict([[largura,altura,area,perimetro]])\\n\\nprint(resultadoUser)\\n'"
      ]
     },
     "execution_count": 805,
     "metadata": {},
     "output_type": "execute_result"
    }
   ],
   "source": [
    "'''\n",
    "imagem = cv2.imread(\"Sofa/116.jpg\",0)\n",
    "\n",
    "largura = maior_linha(imagem,blur,tamanho_images)\n",
    "altura = maior_coluna(imagem,blur,tamanho_images)    \n",
    "perimetro=borda(imagem,blur,tamanho_images)\n",
    "area=area_imagem(imagem,blur,tamanho_images)\n",
    "\n",
    "resultadoUser = clf.predict([[largura,altura,area,perimetro]])\n",
    "\n",
    "print(resultadoUser)\n",
    "'''"
   ]
  },
  {
   "cell_type": "code",
   "execution_count": 861,
   "id": "941095e1",
   "metadata": {},
   "outputs": [],
   "source": [
    "def semelhantes(number_imagem,nivel_semelhanca):\n",
    "    imagem = imagens[number_imagem-1]\n",
    "    plt.subplot(122),plt.imshow(imagem,cmap = 'gray')\n",
    "    plt.title('Original Image: '+str(number_imagem)), plt.xticks([]), plt.yticks([])\n",
    "    plt.show()\n",
    "\n",
    "    largura = maior_linha(imagem,blur,tamanho_images)\n",
    "    altura = maior_coluna(imagem,blur,tamanho_images)    \n",
    "    perimetro=borda(imagem,blur,tamanho_images)\n",
    "    area=area_imagem(imagem,blur,tamanho_images)\n",
    "\n",
    "    sofazinho = [largura,altura,area,perimetro]\n",
    "\n",
    "    distancias1 = []\n",
    "    distancias2 = []\n",
    "    for i in range(len(sofas)):\n",
    "        sofa = sofas[i]\n",
    "        dst = distance.euclidean(sofa, sofazinho)\n",
    "        distancias1.append(round(dst))\n",
    "\n",
    "    distancias1.sort()\n",
    "    dict_aux = list(set(distancias1))\n",
    "#    dict_aux = distancias1\n",
    "    #print(dict_aux)\n",
    "\n",
    "    semelhantes=0\n",
    "    for i in range(len(sofas)):\n",
    "        sofa = sofas[i]\n",
    "        dst = distance.euclidean(sofa, sofazinho)\n",
    "        if dst<=dict_aux[nivel_semelhanca-1] and (i+1)!=number_imagem:\n",
    "            semelhantes+=1\n",
    "            plt.subplot(122),plt.imshow(imagens[i],cmap = 'gray')\n",
    "            plt.title(i+1), plt.xticks([]), plt.yticks([])\n",
    "            plt.show()\n",
    "            \n",
    "#    print(dict_aux)"
   ]
  },
  {
   "cell_type": "code",
   "execution_count": 864,
   "id": "8bbff165",
   "metadata": {},
   "outputs": [
    {
     "data": {
      "image/png": "[encoded data removed]",
      "text/plain": [
       "<Figure size 432x288 with 1 Axes>"
      ]
     },
     "metadata": {},
     "output_type": "display_data"
    },
    {
     "data": {
      "image/png": "[encoded data removed]",
      "text/plain": [
       "<Figure size 432x288 with 1 Axes>"
      ]
     },
     "metadata": {},
     "output_type": "display_data"
    },
    {
     "data": {
      "image/png": "[encoded data removed]",
      "text/plain": [
       "<Figure size 432x288 with 1 Axes>"
      ]
     },
     "metadata": {},
     "output_type": "display_data"
    },
    {
     "data": {
      "image/png": "[encoded data removed]",
      "text/plain": [
       "<Figure size 432x288 with 1 Axes>"
      ]
     },
     "metadata": {},
     "output_type": "display_data"
    },
    {
     "data": {
      "image/png": "[encoded data removed]",
      "text/plain": [
       "<Figure size 432x288 with 1 Axes>"
      ]
     },
     "metadata": {},
     "output_type": "display_data"
    },
    {
     "data": {
      "image/png": "[encoded data removed]",
      "text/plain": [
       "<Figure size 432x288 with 1 Axes>"
      ]
     },
     "metadata": {},
     "output_type": "display_data"
    },
    {
     "data": {
      "image/png": "[encoded data removed]",
      "text/plain": [
       "<Figure size 432x288 with 1 Axes>"
      ]
     },
     "metadata": {},
     "output_type": "display_data"
    },
    {
     "data": {
      "image/png": "[encoded data removed]",
      "text/plain": [
       "<Figure size 432x288 with 1 Axes>"
      ]
     },
     "metadata": {},
     "output_type": "display_data"
    }
   ],
   "source": [
    "#numero do sofa que deseja semalhantes\n",
    "numero_da_imagem = 1079\n",
    "#nivel de semelhança com os demais sofás que deseja exibir\n",
    "nivel = 5\n",
    "\n",
    "semelhantes(numero_da_imagem,nivel)"
   ]
  },
  {
   "cell_type": "code",
   "execution_count": null,
   "id": "1d95c6ea",
   "metadata": {},
   "outputs": [],
   "source": []
  },
  {
   "cell_type": "code",
   "execution_count": null,
   "id": "e2036505",
   "metadata": {},
   "outputs": [],
   "source": []
  }
 ],
 "metadata": {
  "kernelspec": {
   "display_name": "Python 3 (ipykernel)",
   "language": "python",
   "name": "python3"
  },
  "language_info": {
   "codemirror_mode": {
    "name": "ipython",
    "version": 3
   },
   "file_extension": ".py",
   "mimetype": "text/x-python",
   "name": "python",
   "nbconvert_exporter": "python",
   "pygments_lexer": "ipython3",
   "version": "3.9.12"
  }
 },
 "nbformat": 4,
 "nbformat_minor": 5
}
